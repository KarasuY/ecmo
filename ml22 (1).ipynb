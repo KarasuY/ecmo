{
 "cells": [
  {
   "cell_type": "code",
   "execution_count": null,
   "metadata": {},
   "outputs": [],
   "source": [
    "import csv\n",
    "import random\n",
    "import math\n",
    "import numpy as np\n",
    "from sklearn.model_selection import train_test_split\n",
    "from sklearn.naive_bayes import GaussianNB\n",
    "from sklearn.metrics import f1_score\n",
    "\n",
    "#Load data from csv file\n",
    "def loadCsv(filename):\n",
    "    lines = csv.reader(open(filename, newline=''), delimiter=',', quotechar='|')\n",
    "    next(lines)\n",
    "    dataset = []\n",
    "    for row in lines:\n",
    "        dataset.append([float(x) for x in row])\n",
    "    return dataset\n",
    "\n",
    "def main():\n",
    "    filename = 'readmission.csv'\n",
    "    dataset = np.array(loadCsv(filename))\n",
    "    seed = 42\n",
    "    \n",
    "    X = dataset[:, :67]\n",
    "    y = dataset[:, 68]\n",
    "    X_train, X_val, y_train, y_val = train_test_split(X, y, test_size=0.2, random_state=seed)\n",
    "    print('Split '+str(len(dataset))+' rows into train = '+str(len(X_train))+' and test = '+str(len(X_val))+' rows.\\n')\n",
    "    \n",
    "    c = GaussianNB()\n",
    "    y_pred = c.fit(X_train, y_train).predict(X_val)\n",
    "    scores = f1_score(y_val, y_pred, average=None)\n",
    "    for i in range(len(scores)):\n",
    "        print('F1 (Class '+str(i)+'): '+str(scores[i]))\n",
    "\n",
    "main()"
   ]
  }
 ],
 "metadata": {
  "kernelspec": {
   "display_name": "Python 3",
   "language": "python",
   "name": "python3"
  },
  "language_info": {
   "codemirror_mode": {
    "name": "ipython",
    "version": 3
   },
   "file_extension": ".py",
   "mimetype": "text/x-python",
   "name": "python",
   "nbconvert_exporter": "python",
   "pygments_lexer": "ipython3",
   "version": "3.7.3"
  }
 },
 "nbformat": 4,
 "nbformat_minor": 2
}
